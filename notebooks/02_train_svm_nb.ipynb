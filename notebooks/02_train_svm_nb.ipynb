{
 "cells": [
  {
   "cell_type": "code",
   "execution_count": 2,
   "metadata": {},
   "outputs": [],
   "source": [
    "import numpy as np\n",
    "import pandas as pd\n",
    "import joblib\n",
    "import sys\n",
    "import os \n",
    "\n",
    "from sklearn.model_selection import train_test_split\n",
    "from sklearn.feature_extraction.text import TfidfVectorizer\n",
    "from sklearn.svm import SVC\n",
    "from sklearn.naive_bayes import MultinomialNB\n",
    "from sklearn.metrics import classification_report, accuracy_score\n",
    "from sklearn.model_selection import GridSearchCV\n",
    "\n",
    "sys.path.append('../')\n",
    "from src.utilities.config_ import train_data_path, scrape_data_path, model_path"
   ]
  },
  {
   "cell_type": "code",
   "execution_count": 3,
   "metadata": {},
   "outputs": [
    {
     "data": {
      "text/html": [
       "<div>\n",
       "<style scoped>\n",
       "    .dataframe tbody tr th:only-of-type {\n",
       "        vertical-align: middle;\n",
       "    }\n",
       "\n",
       "    .dataframe tbody tr th {\n",
       "        vertical-align: top;\n",
       "    }\n",
       "\n",
       "    .dataframe thead th {\n",
       "        text-align: right;\n",
       "    }\n",
       "</style>\n",
       "<table border=\"1\" class=\"dataframe\">\n",
       "  <thead>\n",
       "    <tr style=\"text-align: right;\">\n",
       "      <th></th>\n",
       "      <th>label</th>\n",
       "      <th>title</th>\n",
       "    </tr>\n",
       "  </thead>\n",
       "  <tbody>\n",
       "    <tr>\n",
       "      <th>0</th>\n",
       "      <td>neutral</td>\n",
       "      <td>According to Gran , the company has no plans t...</td>\n",
       "    </tr>\n",
       "    <tr>\n",
       "      <th>1</th>\n",
       "      <td>neutral</td>\n",
       "      <td>Technopolis plans to develop in stages an area...</td>\n",
       "    </tr>\n",
       "    <tr>\n",
       "      <th>2</th>\n",
       "      <td>negative</td>\n",
       "      <td>The international electronic industry company ...</td>\n",
       "    </tr>\n",
       "    <tr>\n",
       "      <th>3</th>\n",
       "      <td>positive</td>\n",
       "      <td>With the new production plant the company woul...</td>\n",
       "    </tr>\n",
       "    <tr>\n",
       "      <th>4</th>\n",
       "      <td>positive</td>\n",
       "      <td>According to the company 's updated strategy f...</td>\n",
       "    </tr>\n",
       "  </tbody>\n",
       "</table>\n",
       "</div>"
      ],
      "text/plain": [
       "      label                                              title\n",
       "0   neutral  According to Gran , the company has no plans t...\n",
       "1   neutral  Technopolis plans to develop in stages an area...\n",
       "2  negative  The international electronic industry company ...\n",
       "3  positive  With the new production plant the company woul...\n",
       "4  positive  According to the company 's updated strategy f..."
      ]
     },
     "execution_count": 3,
     "metadata": {},
     "output_type": "execute_result"
    }
   ],
   "source": [
    "# read csv\n",
    "train_filename = \"finance-dataset.csv\"\n",
    "df = pd.read_csv(os.path.join(train_data_path, train_filename))\n",
    "df.head()"
   ]
  },
  {
   "cell_type": "code",
   "execution_count": 23,
   "metadata": {},
   "outputs": [],
   "source": [
    "# split the data into features (X) and labels (y)\n",
    "X = df['title']\n",
    "y = df['label']\n",
    "\n",
    "# split the data into training and testing sets\n",
    "X_train, X_test, y_train, y_test = train_test_split(X, y, test_size=0.2, random_state=42)"
   ]
  },
  {
   "cell_type": "code",
   "execution_count": 20,
   "metadata": {},
   "outputs": [],
   "source": [
    "# Initialize the TF-IDF vectorizer\n",
    "vectorizer = TfidfVectorizer(max_features=5000)\n",
    "\n",
    "# Fit and transform the training data, and transform the testing data\n",
    "X_train_tfidf = vectorizer.fit_transform(X_train)\n",
    "X_test_tfidf = vectorizer.transform(X_test)\n"
   ]
  },
  {
   "cell_type": "code",
   "execution_count": 21,
   "metadata": {},
   "outputs": [
    {
     "name": "stdout",
     "output_type": "stream",
     "text": [
      "Fitting 5 folds for each of 24 candidates, totalling 120 fits\n",
      "[CV] END ..................C=0.1, gamma=scale, kernel=linear; total time=   0.5s\n",
      "[CV] END ..................C=0.1, gamma=scale, kernel=linear; total time=   0.5s\n",
      "[CV] END ..................C=0.1, gamma=scale, kernel=linear; total time=   0.5s\n",
      "[CV] END .....................C=0.1, gamma=scale, kernel=rbf; total time=   0.5s\n",
      "[CV] END ..................C=0.1, gamma=scale, kernel=linear; total time=   0.5s\n",
      "[CV] END .....................C=0.1, gamma=scale, kernel=rbf; total time=   0.5s\n",
      "[CV] END .....................C=0.1, gamma=scale, kernel=rbf; total time=   0.5s\n",
      "[CV] END ..................C=0.1, gamma=scale, kernel=linear; total time=   0.5s\n",
      "[CV] END ....................C=0.1, gamma=scale, kernel=poly; total time=   0.6s\n",
      "[CV] END .....................C=0.1, gamma=scale, kernel=rbf; total time=   0.7s\n",
      "[CV] END ....................C=0.1, gamma=scale, kernel=poly; total time=   0.6s\n",
      "[CV] END .....................C=0.1, gamma=scale, kernel=rbf; total time=   0.7s\n",
      "[CV] END ....................C=0.1, gamma=scale, kernel=poly; total time=   0.7s\n",
      "[CV] END ....................C=0.1, gamma=scale, kernel=poly; total time=   0.7s\n",
      "[CV] END ...................C=0.1, gamma=auto, kernel=linear; total time=   0.7s\n",
      "[CV] END ....................C=0.1, gamma=scale, kernel=poly; total time=   0.7s\n",
      "[CV] END ...................C=0.1, gamma=auto, kernel=linear; total time=   0.8s\n",
      "[CV] END ...................C=0.1, gamma=auto, kernel=linear; total time=   0.9s\n",
      "[CV] END ...................C=0.1, gamma=auto, kernel=linear; total time=   0.9s\n",
      "[CV] END ...................C=0.1, gamma=auto, kernel=linear; total time=   0.9s\n",
      "[CV] END ......................C=0.1, gamma=auto, kernel=rbf; total time=   0.9s\n",
      "[CV] END ......................C=0.1, gamma=auto, kernel=rbf; total time=   0.9s\n",
      "[CV] END ......................C=0.1, gamma=auto, kernel=rbf; total time=   0.9s\n",
      "[CV] END ......................C=0.1, gamma=auto, kernel=rbf; total time=   0.9s\n",
      "[CV] END .....................C=0.1, gamma=auto, kernel=poly; total time=   0.6s\n",
      "[CV] END .....................C=0.1, gamma=auto, kernel=poly; total time=   0.6s\n",
      "[CV] END ......................C=0.1, gamma=auto, kernel=rbf; total time=   0.7s\n",
      "[CV] END .....................C=0.1, gamma=auto, kernel=poly; total time=   0.6s\n",
      "[CV] END .....................C=0.1, gamma=auto, kernel=poly; total time=   0.6s\n",
      "[CV] END ....................C=1, gamma=scale, kernel=linear; total time=   0.5s\n",
      "[CV] END .....................C=0.1, gamma=auto, kernel=poly; total time=   0.6s\n",
      "[CV] END ....................C=1, gamma=scale, kernel=linear; total time=   0.6s\n",
      "[CV] END ....................C=1, gamma=scale, kernel=linear; total time=   0.4s\n",
      "[CV] END ....................C=1, gamma=scale, kernel=linear; total time=   0.5s\n",
      "[CV] END ....................C=1, gamma=scale, kernel=linear; total time=   0.5s\n",
      "[CV] END .......................C=1, gamma=scale, kernel=rbf; total time=   0.5s\n",
      "[CV] END .......................C=1, gamma=scale, kernel=rbf; total time=   0.5s\n",
      "[CV] END .......................C=1, gamma=scale, kernel=rbf; total time=   0.5s\n",
      "[CV] END .......................C=1, gamma=scale, kernel=rbf; total time=   0.5s\n",
      "[CV] END .......................C=1, gamma=scale, kernel=rbf; total time=   0.5s\n",
      "[CV] END ......................C=1, gamma=scale, kernel=poly; total time=   0.5s\n",
      "[CV] END ......................C=1, gamma=scale, kernel=poly; total time=   0.5s\n",
      "[CV] END ......................C=1, gamma=scale, kernel=poly; total time=   0.5s\n",
      "[CV] END .....................C=1, gamma=auto, kernel=linear; total time=   0.5s\n",
      "[CV] END .....................C=1, gamma=auto, kernel=linear; total time=   0.5s\n",
      "[CV] END ......................C=1, gamma=scale, kernel=poly; total time=   0.5s\n",
      "[CV] END .....................C=1, gamma=auto, kernel=linear; total time=   0.5s\n",
      "[CV] END ......................C=1, gamma=scale, kernel=poly; total time=   0.6s\n",
      "[CV] END .....................C=1, gamma=auto, kernel=linear; total time=   0.5s\n",
      "[CV] END .....................C=1, gamma=auto, kernel=linear; total time=   0.5s\n",
      "[CV] END ........................C=1, gamma=auto, kernel=rbf; total time=   0.5s\n",
      "[CV] END ........................C=1, gamma=auto, kernel=rbf; total time=   0.5s\n",
      "[CV] END ........................C=1, gamma=auto, kernel=rbf; total time=   0.5s\n",
      "[CV] END ........................C=1, gamma=auto, kernel=rbf; total time=   0.5s\n",
      "[CV] END .......................C=1, gamma=auto, kernel=poly; total time=   0.4s\n",
      "[CV] END ........................C=1, gamma=auto, kernel=rbf; total time=   0.5s\n",
      "[CV] END .......................C=1, gamma=auto, kernel=poly; total time=   0.4s\n",
      "[CV] END .......................C=1, gamma=auto, kernel=poly; total time=   0.4s\n",
      "[CV] END .......................C=1, gamma=auto, kernel=poly; total time=   0.4s\n",
      "[CV] END .......................C=1, gamma=auto, kernel=poly; total time=   0.5s\n",
      "[CV] END ...................C=10, gamma=scale, kernel=linear; total time=   0.4s\n",
      "[CV] END ...................C=10, gamma=scale, kernel=linear; total time=   0.5s\n",
      "[CV] END ...................C=10, gamma=scale, kernel=linear; total time=   0.5s\n",
      "[CV] END ...................C=10, gamma=scale, kernel=linear; total time=   0.5s\n",
      "[CV] END ...................C=10, gamma=scale, kernel=linear; total time=   0.4s\n",
      "[CV] END ......................C=10, gamma=scale, kernel=rbf; total time=   0.5s\n",
      "[CV] END ......................C=10, gamma=scale, kernel=rbf; total time=   0.5s\n",
      "[CV] END ......................C=10, gamma=scale, kernel=rbf; total time=   0.5s\n",
      "[CV] END .....................C=10, gamma=scale, kernel=poly; total time=   0.4s\n",
      "[CV] END ......................C=10, gamma=scale, kernel=rbf; total time=   0.5s\n",
      "[CV] END ......................C=10, gamma=scale, kernel=rbf; total time=   0.5s\n",
      "[CV] END .....................C=10, gamma=scale, kernel=poly; total time=   0.5s\n",
      "[CV] END .....................C=10, gamma=scale, kernel=poly; total time=   0.5s\n",
      "[CV] END .....................C=10, gamma=scale, kernel=poly; total time=   0.5s\n",
      "[CV] END .....................C=10, gamma=scale, kernel=poly; total time=   0.5s\n",
      "[CV] END ....................C=10, gamma=auto, kernel=linear; total time=   0.4s\n",
      "[CV] END ....................C=10, gamma=auto, kernel=linear; total time=   0.4s\n",
      "[CV] END ....................C=10, gamma=auto, kernel=linear; total time=   0.4s\n",
      "[CV] END ....................C=10, gamma=auto, kernel=linear; total time=   0.5s\n",
      "[CV] END ....................C=10, gamma=auto, kernel=linear; total time=   0.5s\n",
      "[CV] END .......................C=10, gamma=auto, kernel=rbf; total time=   0.4s\n",
      "[CV] END .......................C=10, gamma=auto, kernel=rbf; total time=   0.4s\n",
      "[CV] END .......................C=10, gamma=auto, kernel=rbf; total time=   0.5s\n",
      "[CV] END .......................C=10, gamma=auto, kernel=rbf; total time=   0.4s\n",
      "[CV] END .......................C=10, gamma=auto, kernel=rbf; total time=   0.4s\n",
      "[CV] END ......................C=10, gamma=auto, kernel=poly; total time=   0.4s\n",
      "[CV] END ......................C=10, gamma=auto, kernel=poly; total time=   0.4s\n",
      "[CV] END ......................C=10, gamma=auto, kernel=poly; total time=   0.4s\n",
      "[CV] END ......................C=10, gamma=auto, kernel=poly; total time=   0.4s\n",
      "[CV] END ......................C=10, gamma=auto, kernel=poly; total time=   0.4s\n",
      "[CV] END ..................C=100, gamma=scale, kernel=linear; total time=   0.5s\n",
      "[CV] END ..................C=100, gamma=scale, kernel=linear; total time=   0.5s\n",
      "[CV] END ..................C=100, gamma=scale, kernel=linear; total time=   0.5s\n",
      "[CV] END ..................C=100, gamma=scale, kernel=linear; total time=   0.5s\n",
      "[CV] END ..................C=100, gamma=scale, kernel=linear; total time=   0.5s\n",
      "[CV] END .....................C=100, gamma=scale, kernel=rbf; total time=   0.5s\n",
      "[CV] END .....................C=100, gamma=scale, kernel=rbf; total time=   0.6s\n",
      "[CV] END .....................C=100, gamma=scale, kernel=rbf; total time=   0.5s\n",
      "[CV] END .....................C=100, gamma=scale, kernel=rbf; total time=   0.5s\n",
      "[CV] END ....................C=100, gamma=scale, kernel=poly; total time=   0.5s\n",
      "[CV] END ....................C=100, gamma=scale, kernel=poly; total time=   0.5s\n",
      "[CV] END .....................C=100, gamma=scale, kernel=rbf; total time=   0.5s\n",
      "[CV] END ....................C=100, gamma=scale, kernel=poly; total time=   0.5s\n",
      "[CV] END ....................C=100, gamma=scale, kernel=poly; total time=   0.5s\n",
      "[CV] END ...................C=100, gamma=auto, kernel=linear; total time=   0.4s\n",
      "[CV] END ....................C=100, gamma=scale, kernel=poly; total time=   0.5s\n",
      "[CV] END ...................C=100, gamma=auto, kernel=linear; total time=   0.4s\n",
      "[CV] END ...................C=100, gamma=auto, kernel=linear; total time=   0.4s\n",
      "[CV] END ...................C=100, gamma=auto, kernel=linear; total time=   0.4s\n",
      "[CV] END ...................C=100, gamma=auto, kernel=linear; total time=   0.5s\n",
      "[CV] END ......................C=100, gamma=auto, kernel=rbf; total time=   0.5s\n",
      "[CV] END ......................C=100, gamma=auto, kernel=rbf; total time=   0.4s\n",
      "[CV] END ......................C=100, gamma=auto, kernel=rbf; total time=   0.4s\n",
      "[CV] END ......................C=100, gamma=auto, kernel=rbf; total time=   0.4s\n",
      "[CV] END ......................C=100, gamma=auto, kernel=rbf; total time=   0.4s\n",
      "[CV] END .....................C=100, gamma=auto, kernel=poly; total time=   0.4s\n",
      "[CV] END .....................C=100, gamma=auto, kernel=poly; total time=   0.4s\n",
      "[CV] END .....................C=100, gamma=auto, kernel=poly; total time=   0.4s\n",
      "[CV] END .....................C=100, gamma=auto, kernel=poly; total time=   0.4s\n",
      "[CV] END .....................C=100, gamma=auto, kernel=poly; total time=   0.4s\n",
      "Best SVM parameters: {'C': 1, 'gamma': 'scale', 'kernel': 'linear'}\n",
      "Best SVM score: 0.6804677246152011\n"
     ]
    }
   ],
   "source": [
    "# Define the parameter grid for SVM\n",
    "svm_param_grid = {\n",
    "    'C': [0.1, 1, 10, 100],\n",
    "    'kernel': ['linear', 'rbf', 'poly'],\n",
    "    'gamma': ['scale', 'auto']\n",
    "}\n",
    "\n",
    "# Initialize the SVM model\n",
    "svm_model = SVC()\n",
    "\n",
    "# Initialize Grid Search with cross-validation\n",
    "svm_grid_search = GridSearchCV(estimator=svm_model, param_grid=svm_param_grid, cv=5, verbose=2, n_jobs=-1)\n",
    "\n",
    "# Fit Grid Search to the data\n",
    "svm_grid_search.fit(X_train_tfidf, y_train)\n",
    "\n",
    "# Best parameters and score\n",
    "print(\"Best SVM parameters:\", svm_grid_search.best_params_)\n",
    "print(\"Best SVM score:\", svm_grid_search.best_score_)"
   ]
  },
  {
   "cell_type": "code",
   "execution_count": 11,
   "metadata": {},
   "outputs": [
    {
     "name": "stdout",
     "output_type": "stream",
     "text": [
      "SVM Model after fine-tuning\n",
      "Accuracy: 0.7742268041237114\n",
      "Classification Report:\n",
      "              precision    recall  f1-score   support\n",
      "\n",
      "    negative       0.86      0.58      0.70       110\n",
      "     neutral       0.76      0.93      0.84       571\n",
      "    positive       0.78      0.55      0.64       289\n",
      "\n",
      "    accuracy                           0.77       970\n",
      "   macro avg       0.80      0.68      0.72       970\n",
      "weighted avg       0.78      0.77      0.76       970\n",
      "\n"
     ]
    }
   ],
   "source": [
    "# Use the best estimator to make predictions\n",
    "best_svm_model = svm_grid_search.best_estimator_\n",
    "y_pred_svm = best_svm_model.predict(X_test_tfidf)\n",
    "\n",
    "# Evaluate the model\n",
    "print(\"SVM Model after fine-tuning\")\n",
    "print(\"Accuracy:\", accuracy_score(y_test, y_pred_svm))\n",
    "print(\"Classification Report:\")\n",
    "print(classification_report(y_test, y_pred_svm))"
   ]
  },
  {
   "cell_type": "code",
   "execution_count": 12,
   "metadata": {},
   "outputs": [
    {
     "name": "stdout",
     "output_type": "stream",
     "text": [
      "Fitting 5 folds for each of 6 candidates, totalling 30 fits\n",
      "[CV] END .........................................alpha=0.01; total time=   0.0s\n",
      "[CV] END .........................................alpha=0.01; total time=   0.0s\n",
      "[CV] END .........................................alpha=0.01; total time=   0.0s\n",
      "[CV] END .........................................alpha=0.01; total time=   0.0s\n",
      "[CV] END .........................................alpha=0.01; total time=   0.0s\n",
      "[CV] END ..........................................alpha=0.1; total time=   0.0s\n",
      "[CV] END ..........................................alpha=0.1; total time=   0.0s\n",
      "[CV] END ..........................................alpha=0.1; total time=   0.0s\n",
      "[CV] END ..........................................alpha=0.1; total time=   0.0s\n",
      "[CV] END ..........................................alpha=0.5; total time=   0.0s\n",
      "[CV] END ..........................................alpha=0.1; total time=   0.0s\n",
      "[CV] END ..........................................alpha=0.5; total time=   0.0s\n",
      "[CV] END ..........................................alpha=0.5; total time=   0.0s\n",
      "[CV] END ..........................................alpha=0.5; total time=   0.0s\n",
      "[CV] END ..........................................alpha=0.5; total time=   0.0s\n",
      "[CV] END ............................................alpha=1; total time=   0.0s\n",
      "[CV] END ............................................alpha=1; total time=   0.0s\n",
      "[CV] END ............................................alpha=1; total time=   0.0s\n",
      "[CV] END ............................................alpha=1; total time=   0.0s\n",
      "[CV] END ............................................alpha=1; total time=   0.0s\n",
      "[CV] END ............................................alpha=5; total time=   0.0s\n",
      "[CV] END ............................................alpha=5; total time=   0.0s\n",
      "[CV] END ............................................alpha=5; total time=   0.0s\n",
      "[CV] END ............................................alpha=5; total time=   0.0s\n",
      "[CV] END ............................................alpha=5; total time=   0.0s\n",
      "[CV] END ...........................................alpha=10; total time=   0.0s\n",
      "[CV] END ...........................................alpha=10; total time=   0.0s\n",
      "[CV] END ...........................................alpha=10; total time=   0.0s\n",
      "[CV] END ...........................................alpha=10; total time=   0.0s\n",
      "[CV] END ...........................................alpha=10; total time=   0.0s\n",
      "Best Naive Bayes parameters: {'alpha': 0.1}\n",
      "Best Naive Bayes score: 0.71258929165281\n"
     ]
    }
   ],
   "source": [
    "# Define the parameter grid for Naive Bayes\n",
    "nb_param_grid = {\n",
    "    'alpha': [0.01, 0.1, 0.5, 1, 5, 10]\n",
    "}\n",
    "\n",
    "# Initialize the Naive Bayes model\n",
    "nb_model = MultinomialNB()\n",
    "\n",
    "# Initialize Grid Search with cross-validation\n",
    "nb_grid_search = GridSearchCV(estimator=nb_model, param_grid=nb_param_grid, cv=5, verbose=2, n_jobs=-1)\n",
    "\n",
    "# Fit Grid Search to the data\n",
    "nb_grid_search.fit(X_train_tfidf, y_train)\n",
    "\n",
    "# Best parameters and score\n",
    "print(\"Best Naive Bayes parameters:\", nb_grid_search.best_params_)\n",
    "print(\"Best Naive Bayes score:\", nb_grid_search.best_score_)"
   ]
  },
  {
   "cell_type": "code",
   "execution_count": 13,
   "metadata": {},
   "outputs": [
    {
     "name": "stdout",
     "output_type": "stream",
     "text": [
      "Naive Bayes Model after fine-tuning\n",
      "Accuracy: 0.7350515463917526\n",
      "Classification Report:\n",
      "              precision    recall  f1-score   support\n",
      "\n",
      "    negative       0.75      0.53      0.62       110\n",
      "     neutral       0.75      0.90      0.82       571\n",
      "    positive       0.68      0.48      0.57       289\n",
      "\n",
      "    accuracy                           0.74       970\n",
      "   macro avg       0.73      0.64      0.67       970\n",
      "weighted avg       0.73      0.74      0.72       970\n",
      "\n"
     ]
    }
   ],
   "source": [
    "# Use the best estimator to make predictions\n",
    "best_nb_model = nb_grid_search.best_estimator_\n",
    "y_pred_nb = best_nb_model.predict(X_test_tfidf)\n",
    "\n",
    "# Evaluate the model\n",
    "print(\"Naive Bayes Model after fine-tuning\")\n",
    "print(\"Accuracy:\", accuracy_score(y_test, y_pred_nb))\n",
    "print(\"Classification Report:\")\n",
    "print(classification_report(y_test, y_pred_nb))"
   ]
  },
  {
   "cell_type": "code",
   "execution_count": 14,
   "metadata": {},
   "outputs": [
    {
     "data": {
      "text/plain": [
       "['/Users/shabrinashafura/Documents/Code/market-dashboard-ml/model/naive_bayes_model.pkl']"
      ]
     },
     "execution_count": 14,
     "metadata": {},
     "output_type": "execute_result"
    }
   ],
   "source": [
    "# save svm model\n",
    "svm_file = \"svm_model.pkl\"\n",
    "joblib.dump(best_svm_model, os.path.join(model_path, svm_file))\n",
    "\n",
    "# save naive bayes model\n",
    "nb_file = \"naive_bayes_model.pkl\"\n",
    "joblib.dump(best_nb_model, os.path.join(model_path, nb_file))"
   ]
  },
  {
   "cell_type": "code",
   "execution_count": 15,
   "metadata": {},
   "outputs": [
    {
     "data": {
      "text/plain": [
       "['/Users/shabrinashafura/Documents/Code/market-dashboard-ml/model/tfidf_vectorizer.pkl']"
      ]
     },
     "execution_count": 15,
     "metadata": {},
     "output_type": "execute_result"
    }
   ],
   "source": [
    "# Save the TF-IDF vectorizer\n",
    "vectorizer_file = \"tfidf_vectorizer.pkl\"\n",
    "joblib.dump(vectorizer, os.path.join(model_path, vectorizer_file))"
   ]
  },
  {
   "cell_type": "code",
   "execution_count": 16,
   "metadata": {},
   "outputs": [],
   "source": [
    "# Load TFIDF\n",
    "loaded_svm_model = joblib.load(os.path.join(model_path, svm_file))\n",
    "\n",
    "# Load the saved TF-IDF vectorizer\n",
    "vectorizer_file = \"tfidf_vectorizer.pkl\"\n",
    "loaded_vectorizer = joblib.load(os.path.join(model_path, vectorizer_file))"
   ]
  },
  {
   "cell_type": "code",
   "execution_count": 17,
   "metadata": {},
   "outputs": [],
   "source": [
    "# New text data to predict\n",
    "new_texts = [\"Market goes down\"]\n",
    "\n",
    "# Preprocess the new text data\n",
    "new_texts_tfidf = loaded_vectorizer.transform(new_texts)"
   ]
  },
  {
   "cell_type": "code",
   "execution_count": 18,
   "metadata": {},
   "outputs": [
    {
     "name": "stdout",
     "output_type": "stream",
     "text": [
      "['negative']\n"
     ]
    }
   ],
   "source": [
    "# Predict the labels for the new text data\n",
    "predictions = loaded_svm_model.predict(new_texts_tfidf)\n",
    "\n",
    "# Output the predictions\n",
    "print(predictions)"
   ]
  },
  {
   "cell_type": "code",
   "execution_count": null,
   "metadata": {},
   "outputs": [],
   "source": []
  },
  {
   "cell_type": "code",
   "execution_count": null,
   "metadata": {},
   "outputs": [],
   "source": []
  }
 ],
 "metadata": {
  "kernelspec": {
   "display_name": "market-dashboard",
   "language": "python",
   "name": "python3"
  },
  "language_info": {
   "codemirror_mode": {
    "name": "ipython",
    "version": 3
   },
   "file_extension": ".py",
   "mimetype": "text/x-python",
   "name": "python",
   "nbconvert_exporter": "python",
   "pygments_lexer": "ipython3",
   "version": "3.9.18"
  }
 },
 "nbformat": 4,
 "nbformat_minor": 2
}
